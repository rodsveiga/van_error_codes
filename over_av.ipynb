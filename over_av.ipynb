{
 "cells": [
  {
   "cell_type": "code",
   "execution_count": 1,
   "metadata": {},
   "outputs": [],
   "source": [
    "import torch"
   ]
  },
  {
   "cell_type": "code",
   "execution_count": 2,
   "metadata": {},
   "outputs": [],
   "source": [
    "N = 250\n",
    "M = 1000\n",
    "K = 5\n",
    "p_prior = 0.1\n",
    "p = 0.1\n",
    "code = 0\n",
    "steps = 1000\n",
    "\n",
    "ps = '{:.3f}'.format(p).replace('.', '')\n",
    "pps = '{:.3f}'.format(p_prior).replace('.', '')\n",
    "Ns = str(N)\n",
    "Ms = str(M)\n",
    "Ks = str(K)\n",
    "steps = str(steps)\n",
    "code = str(code)"
   ]
  },
  {
   "cell_type": "code",
   "execution_count": 3,
   "metadata": {},
   "outputs": [],
   "source": [
    "path_ = '/home/rodrigo/Dropbox/DOC/van_error_codes/models/_N_%s_M_%s_K_%s_p_prior_%s_steps_%s_code_%s/' % (Ns, Ms, Ks, pps, steps, code)"
   ]
  },
  {
   "cell_type": "code",
   "execution_count": 4,
   "metadata": {},
   "outputs": [],
   "source": [
    "PATH = path_ + 'model_N_250_M_1000_K_5_p_0100_p_prior_0100_steps_1000/'"
   ]
  },
  {
   "cell_type": "code",
   "execution_count": 42,
   "metadata": {},
   "outputs": [],
   "source": [
    "message = torch.load(PATH + 'message_N_%s_M_%s_K_%s_p_%s_p_prior_%s.pt' % (Ns, Ms, Ks, ps, pps))"
   ]
  },
  {
   "cell_type": "code",
   "execution_count": 43,
   "metadata": {},
   "outputs": [
    {
     "data": {
      "text/plain": "tensor([[ 1.,  1.,  1.,  ...,  1.,  1.,  1.],\n        [ 1.,  1., -1.,  ...,  1., -1.,  1.],\n        [ 1.,  1., -1.,  ...,  1.,  1.,  1.],\n        ...,\n        [ 1.,  1.,  1.,  ...,  1.,  1.,  1.],\n        [ 1.,  1.,  1.,  ...,  1.,  1.,  1.],\n        [ 1.,  1.,  1.,  ...,  1.,  1.,  1.]])"
     },
     "execution_count": 43,
     "metadata": {},
     "output_type": "execute_result"
    }
   ],
   "source": [
    "message"
   ]
  },
  {
   "cell_type": "code",
   "execution_count": 44,
   "metadata": {},
   "outputs": [],
   "source": [
    "decoding = torch.load(PATH + 'av_sample_N_%s_M_%s_K_%s_p_%s_p_prior_%s.pt' % (Ns, Ms, Ks, ps, pps))"
   ]
  },
  {
   "cell_type": "code",
   "execution_count": 45,
   "metadata": {},
   "outputs": [
    {
     "data": {
      "text/plain": "tensor([[ 1.,  1.,  1.,  ...,  1.,  1.,  1.],\n        [-1.,  1.,  1.,  ...,  1.,  1.,  1.],\n        [ 1.,  1.,  1.,  ...,  1.,  1.,  1.],\n        ...,\n        [-1.,  1.,  1.,  ...,  1.,  1.,  1.],\n        [ 1.,  1.,  1.,  ...,  1.,  1.,  1.],\n        [ 1.,  1.,  1.,  ...,  1.,  1.,  1.]], requires_grad=True)"
     },
     "execution_count": 45,
     "metadata": {},
     "output_type": "execute_result"
    }
   ],
   "source": [
    "decoding"
   ]
  },
  {
   "cell_type": "code",
   "execution_count": 46,
   "metadata": {},
   "outputs": [
    {
     "data": {
      "text/plain": "tensor([ 1.,  1.,  1.,  1.,  1.,  1.,  1.,  1.,  1.,  1.,  1.,  1.,  1., -1.,\n         1.,  1.,  1.,  1.,  1., -1.,  1.,  1.,  1.,  1.,  1.,  1.,  1.,  1.,\n         1.,  1.,  1.,  1.,  1.,  1.,  1., -1.,  1.,  1.,  1.,  1.,  1.,  1.,\n         1.,  1.,  1.,  1.,  1., -1.,  1.,  1., -1.,  1., -1.,  1.,  1.,  1.,\n         1.,  1.,  1.,  1.,  1.,  1.,  1.,  1.,  1.,  1.,  1., -1.,  1.,  1.,\n         1.,  1.,  1.,  1.,  1.,  1.,  1.,  1.,  1.,  1., -1.,  1.,  1.,  1.,\n         1.,  1.,  1.,  1.,  1.,  1.,  1., -1.,  1.,  1.,  1.,  1.,  1.,  1.,\n         1.,  1.,  1.,  1.,  1.,  1.,  1.,  1.,  1.,  1.,  1.,  1.,  1.,  1.,\n         1.,  1.,  1.,  1.,  1.,  1.,  1.,  1.,  1.,  1.,  1.,  1.,  1.,  1.,\n         1., -1.,  1.,  1.,  1.,  1.,  1.,  1.,  1.,  1.,  1.,  1.,  1.,  1.,\n         1.,  1.,  1.,  1.,  1.,  1.,  1.,  1.,  1.,  1.,  1.,  1.,  1.,  1.,\n         1.,  1.,  1.,  1.,  1.,  1.,  1.,  1., -1.,  1.,  1.,  1.,  1.,  1.,\n         1.,  1.,  1.,  1.,  1.,  1.,  1.,  1.,  1.,  1.,  1.,  1.,  1.,  1.,\n         1.,  1.,  1.,  1.,  1.,  1.,  1.,  1.,  1.,  1.,  1.,  1.,  1.,  1.,\n         1.,  1.,  1.,  1.,  1.,  1.,  1.,  1.,  1.,  1.,  1.,  1.,  1.,  1.,\n         1.,  1.,  1.,  1.,  1.,  1.,  1.,  1.,  1.,  1.,  1.,  1.,  1., -1.,\n         1.,  1.,  1.,  1., -1., -1.,  1.,  1.,  1.,  1.,  1., -1.,  1.,  1.,\n         1.,  1., -1.,  1.,  1.,  1., -1.,  1., -1.,  1.,  1.,  1.])"
     },
     "execution_count": 46,
     "metadata": {},
     "output_type": "execute_result"
    }
   ],
   "source": [
    "message[0]"
   ]
  },
  {
   "cell_type": "code",
   "execution_count": 47,
   "metadata": {},
   "outputs": [
    {
     "data": {
      "text/plain": "tensor([ 1.,  1.,  1.,  1.,  1.,  1.,  1.,  1.,  1.,  1.,  1.,  1.,  1.,  1.,\n         1.,  1.,  1.,  1.,  1.,  1.,  1.,  1.,  1.,  1.,  1.,  1.,  1.,  1.,\n         1.,  1.,  1.,  1.,  1.,  1.,  1.,  1.,  1.,  1.,  1.,  1.,  1.,  1.,\n         1.,  1.,  1.,  1.,  1.,  1.,  1.,  1.,  1.,  1.,  1.,  1.,  1.,  1.,\n         1.,  1.,  1.,  1.,  1.,  1.,  1.,  1.,  1.,  1.,  1.,  1.,  1.,  1.,\n         1.,  1.,  1.,  1.,  1.,  1.,  1.,  1.,  1.,  1.,  1.,  1.,  1.,  1.,\n         1.,  1.,  1.,  1.,  1.,  1.,  1.,  1.,  1.,  1.,  1.,  1.,  1.,  1.,\n         1.,  1.,  1.,  1.,  1.,  1.,  1.,  1.,  1.,  1.,  1.,  1.,  1.,  1.,\n         1.,  1.,  1.,  1.,  1.,  1.,  1.,  1.,  1.,  1.,  1.,  1.,  1.,  1.,\n         1.,  1.,  1.,  1.,  1.,  1.,  1.,  1.,  1.,  1., -1.,  1.,  1.,  1.,\n         1.,  1.,  1.,  1.,  1.,  1.,  1.,  1.,  1.,  1.,  1.,  1.,  1.,  1.,\n         1.,  1.,  1.,  1.,  1.,  1.,  1.,  1.,  1.,  1.,  1.,  1.,  1.,  1.,\n         1.,  1.,  1.,  1.,  1.,  1.,  1.,  1.,  1.,  1.,  1.,  1.,  1.,  1.,\n         1.,  1.,  1.,  1.,  1.,  1.,  1.,  1.,  1.,  1.,  1.,  1.,  1.,  1.,\n         1.,  1.,  1.,  1.,  1.,  1.,  1.,  1.,  1.,  1.,  1.,  1.,  1.,  1.,\n         1.,  1.,  1.,  1.,  1.,  1.,  1.,  1.,  1.,  1.,  1.,  1.,  1.,  1.,\n         1.,  1.,  1.,  1.,  1.,  1.,  1.,  1.,  1.,  1.,  1.,  1.,  1.,  1.,\n         1.,  1.,  1.,  1.,  1.,  1.,  1.,  1.,  1.,  1.,  1.,  1.],\n       grad_fn=<SelectBackward>)"
     },
     "execution_count": 47,
     "metadata": {},
     "output_type": "execute_result"
    }
   ],
   "source": [
    "decoding[0]"
   ]
  },
  {
   "cell_type": "code",
   "execution_count": 48,
   "metadata": {},
   "outputs": [
    {
     "name": "stdout",
     "output_type": "stream",
     "text": "248.0\n214.0\n"
    }
   ],
   "source": [
    "print(torch.sum(decoding[0]).item())\n",
    "print(torch.sum(message[0]).item())"
   ]
  },
  {
   "cell_type": "code",
   "execution_count": 49,
   "metadata": {},
   "outputs": [
    {
     "name": "stdout",
     "output_type": "stream",
     "text": "-- Message # 0\nMessage # minus=  36.0\nDecoded # minus=  2.0\n-- Message # 1\nMessage # minus=  66.0\nDecoded # minus=  4.0\n-- Message # 2\nMessage # minus=  44.0\nDecoded # minus=  2.0\n-- Message # 3\nMessage # minus=  80.0\nDecoded # minus=  4.0\n-- Message # 4\nMessage # minus=  42.0\nDecoded # minus=  4.0\n-- Message # 5\nMessage # minus=  72.0\nDecoded # minus=  2.0\n-- Message # 6\nMessage # minus=  40.0\nDecoded # minus=  4.0\n-- Message # 7\nMessage # minus=  48.0\nDecoded # minus=  2.0\n-- Message # 8\nMessage # minus=  50.0\nDecoded # minus=  2.0\n-- Message # 9\nMessage # minus=  54.0\nDecoded # minus=  2.0\n-- Message # 10\nMessage # minus=  64.0\nDecoded # minus=  4.0\n-- Message # 11\nMessage # minus=  42.0\nDecoded # minus=  4.0\n-- Message # 12\nMessage # minus=  34.0\nDecoded # minus=  4.0\n-- Message # 13\nMessage # minus=  58.0\nDecoded # minus=  2.0\n-- Message # 14\nMessage # minus=  56.0\nDecoded # minus=  2.0\n-- Message # 15\nMessage # minus=  38.0\nDecoded # minus=  2.0\n-- Message # 16\nMessage # minus=  46.0\nDecoded # minus=  4.0\n-- Message # 17\nMessage # minus=  32.0\nDecoded # minus=  4.0\n-- Message # 18\nMessage # minus=  46.0\nDecoded # minus=  4.0\n-- Message # 19\nMessage # minus=  44.0\nDecoded # minus=  2.0\n-- Message # 20\nMessage # minus=  64.0\nDecoded # minus=  2.0\n-- Message # 21\nMessage # minus=  36.0\nDecoded # minus=  4.0\n-- Message # 22\nMessage # minus=  42.0\nDecoded # minus=  4.0\n-- Message # 23\nMessage # minus=  46.0\nDecoded # minus=  2.0\n-- Message # 24\nMessage # minus=  64.0\nDecoded # minus=  2.0\n-- Message # 25\nMessage # minus=  32.0\nDecoded # minus=  4.0\n-- Message # 26\nMessage # minus=  48.0\nDecoded # minus=  2.0\n-- Message # 27\nMessage # minus=  44.0\nDecoded # minus=  4.0\n-- Message # 28\nMessage # minus=  52.0\nDecoded # minus=  2.0\n-- Message # 29\nMessage # minus=  42.0\nDecoded # minus=  4.0\n-- Message # 30\nMessage # minus=  54.0\nDecoded # minus=  2.0\n-- Message # 31\nMessage # minus=  50.0\nDecoded # minus=  4.0\n-- Message # 32\nMessage # minus=  56.0\nDecoded # minus=  4.0\n-- Message # 33\nMessage # minus=  34.0\nDecoded # minus=  2.0\n-- Message # 34\nMessage # minus=  56.0\nDecoded # minus=  2.0\n-- Message # 35\nMessage # minus=  46.0\nDecoded # minus=  2.0\n-- Message # 36\nMessage # minus=  54.0\nDecoded # minus=  4.0\n-- Message # 37\nMessage # minus=  66.0\nDecoded # minus=  4.0\n-- Message # 38\nMessage # minus=  26.0\nDecoded # minus=  2.0\n-- Message # 39\nMessage # minus=  38.0\nDecoded # minus=  2.0\n-- Message # 40\nMessage # minus=  72.0\nDecoded # minus=  4.0\n-- Message # 41\nMessage # minus=  50.0\nDecoded # minus=  4.0\n-- Message # 42\nMessage # minus=  50.0\nDecoded # minus=  4.0\n-- Message # 43\nMessage # minus=  64.0\nDecoded # minus=  4.0\n-- Message # 44\nMessage # minus=  32.0\nDecoded # minus=  2.0\n-- Message # 45\nMessage # minus=  32.0\nDecoded # minus=  4.0\n-- Message # 46\nMessage # minus=  58.0\nDecoded # minus=  4.0\n-- Message # 47\nMessage # minus=  44.0\nDecoded # minus=  2.0\n-- Message # 48\nMessage # minus=  32.0\nDecoded # minus=  4.0\n-- Message # 49\nMessage # minus=  48.0\nDecoded # minus=  4.0\n-- Message # 50\nMessage # minus=  78.0\nDecoded # minus=  2.0\n-- Message # 51\nMessage # minus=  44.0\nDecoded # minus=  4.0\n-- Message # 52\nMessage # minus=  40.0\nDecoded # minus=  2.0\n-- Message # 53\nMessage # minus=  62.0\nDecoded # minus=  2.0\n-- Message # 54\nMessage # minus=  70.0\nDecoded # minus=  4.0\n-- Message # 55\nMessage # minus=  52.0\nDecoded # minus=  2.0\n-- Message # 56\nMessage # minus=  58.0\nDecoded # minus=  4.0\n-- Message # 57\nMessage # minus=  58.0\nDecoded # minus=  4.0\n-- Message # 58\nMessage # minus=  46.0\nDecoded # minus=  4.0\n-- Message # 59\nMessage # minus=  62.0\nDecoded # minus=  4.0\n-- Message # 60\nMessage # minus=  56.0\nDecoded # minus=  4.0\n-- Message # 61\nMessage # minus=  50.0\nDecoded # minus=  2.0\n-- Message # 62\nMessage # minus=  50.0\nDecoded # minus=  2.0\n-- Message # 63\nMessage # minus=  54.0\nDecoded # minus=  2.0\n-- Message # 64\nMessage # minus=  54.0\nDecoded # minus=  4.0\n-- Message # 65\nMessage # minus=  44.0\nDecoded # minus=  2.0\n-- Message # 66\nMessage # minus=  34.0\nDecoded # minus=  2.0\n-- Message # 67\nMessage # minus=  34.0\nDecoded # minus=  4.0\n-- Message # 68\nMessage # minus=  36.0\nDecoded # minus=  2.0\n-- Message # 69\nMessage # minus=  54.0\nDecoded # minus=  2.0\n-- Message # 70\nMessage # minus=  48.0\nDecoded # minus=  4.0\n-- Message # 71\nMessage # minus=  38.0\nDecoded # minus=  2.0\n-- Message # 72\nMessage # minus=  46.0\nDecoded # minus=  2.0\n-- Message # 73\nMessage # minus=  48.0\nDecoded # minus=  4.0\n-- Message # 74\nMessage # minus=  48.0\nDecoded # minus=  2.0\n-- Message # 75\nMessage # minus=  52.0\nDecoded # minus=  2.0\n-- Message # 76\nMessage # minus=  34.0\nDecoded # minus=  4.0\n-- Message # 77\nMessage # minus=  26.0\nDecoded # minus=  4.0\n-- Message # 78\nMessage # minus=  54.0\nDecoded # minus=  2.0\n-- Message # 79\nMessage # minus=  38.0\nDecoded # minus=  4.0\n-- Message # 80\nMessage # minus=  56.0\nDecoded # minus=  4.0\n-- Message # 81\nMessage # minus=  50.0\nDecoded # minus=  4.0\n-- Message # 82\nMessage # minus=  44.0\nDecoded # minus=  4.0\n-- Message # 83\nMessage # minus=  60.0\nDecoded # minus=  4.0\n-- Message # 84\nMessage # minus=  46.0\nDecoded # minus=  2.0\n-- Message # 85\nMessage # minus=  42.0\nDecoded # minus=  2.0\n-- Message # 86\nMessage # minus=  52.0\nDecoded # minus=  4.0\n-- Message # 87\nMessage # minus=  52.0\nDecoded # minus=  2.0\n-- Message # 88\nMessage # minus=  44.0\nDecoded # minus=  2.0\n-- Message # 89\nMessage # minus=  58.0\nDecoded # minus=  2.0\n-- Message # 90\nMessage # minus=  42.0\nDecoded # minus=  2.0\n-- Message # 91\nMessage # minus=  46.0\nDecoded # minus=  4.0\n-- Message # 92\nMessage # minus=  54.0\nDecoded # minus=  4.0\n-- Message # 93\nMessage # minus=  54.0\nDecoded # minus=  2.0\n-- Message # 94\nMessage # minus=  56.0\nDecoded # minus=  2.0\n-- Message # 95\nMessage # minus=  56.0\nDecoded # minus=  2.0\n-- Message # 96\nMessage # minus=  34.0\nDecoded # minus=  2.0\n-- Message # 97\nMessage # minus=  50.0\nDecoded # minus=  4.0\n-- Message # 98\nMessage # minus=  42.0\nDecoded # minus=  2.0\n-- Message # 99\nMessage # minus=  54.0\nDecoded # minus=  2.0\n"
    }
   ],
   "source": [
    "for j in range(message.shape[0]):\n",
    "    print('-- Message #', j)\n",
    "    print('Message # minus= ', N - torch.sum(message[j]).item())\n",
    "    print('Decoded # minus= ', N - torch.sum(decoding[j]).item())"
   ]
  },
  {
   "cell_type": "code",
   "execution_count": null,
   "metadata": {},
   "outputs": [],
   "source": []
  }
 ],
 "metadata": {
  "kernelspec": {
   "display_name": "Python 3",
   "language": "python",
   "name": "python3"
  },
  "language_info": {
   "codemirror_mode": {
    "name": "ipython",
    "version": 3
   },
   "file_extension": ".py",
   "mimetype": "text/x-python",
   "name": "python",
   "nbconvert_exporter": "python",
   "pygments_lexer": "ipython3",
   "version": "3.7.3-final"
  }
 },
 "nbformat": 4,
 "nbformat_minor": 2
}